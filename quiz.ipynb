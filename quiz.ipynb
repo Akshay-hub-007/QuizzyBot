{
 "cells": [
  {
   "cell_type": "code",
   "execution_count": 45,
   "id": "280fb6b3",
   "metadata": {},
   "outputs": [],
   "source": [
    "from langgraph.graph import StateGraph,START,END\n",
    "from langchain_google_genai import ChatGoogleGenerativeAI\n",
    "from typing import TypedDict,List,Dict,Optional,Literal\n",
    "import json\n",
    "import re\n",
    "from pydantic import BaseModel,Field\n"
   ]
  },
  {
   "cell_type": "code",
   "execution_count": 46,
   "id": "e09b622a",
   "metadata": {},
   "outputs": [],
   "source": [
    "model=ChatGoogleGenerativeAI(model=\"gemini-1.5-flash\")"
   ]
  },
  {
   "cell_type": "code",
   "execution_count": 47,
   "id": "c141596d",
   "metadata": {},
   "outputs": [],
   "source": [
    "class QuizItem(BaseModel):\n",
    "    question:str\n",
    "    answer:str\n",
    "    options:List[str]\n",
    "\n",
    "class StudyPlan(TypedDict):\n",
    "    start_date:str\n",
    "    end_date:str\n",
    "    daily_plan:Dict[str,str]\n",
    "\n",
    "class FeedbackItem(TypedDict):\n",
    "    score: int\n",
    "    suggestions: List[str]\n",
    "    next_focus: List[str]\n",
    "\n",
    "class StudyAssisstant(TypedDict):\n",
    "    query: str\n",
    "    topic:str\n",
    "    count:int\n",
    "    decision:Literal['study_plan','quiz','another']\n",
    "    quiz: Optional[List[QuizItem]]\n",
    "    plan: Optional[StudyPlan]\n",
    "    feedback: Optional[FeedbackItem]\n",
    "    optional: Optional[str]\n",
    "    score:int"
   ]
  },
  {
   "cell_type": "code",
   "execution_count": 48,
   "id": "5d055e5c",
   "metadata": {},
   "outputs": [],
   "source": [
    "# structured_model=model.with_structured_output([QuizItem])"
   ]
  },
  {
   "cell_type": "code",
   "execution_count": 36,
   "id": "5642a027",
   "metadata": {},
   "outputs": [],
   "source": [
    "\n",
    "\n",
    "def quiz_planner(state:StudyAssisstant):\n",
    "    topic=state['topic']\n",
    "    count=state['count']\n",
    "    print(topic)\n",
    "    print(count)\n",
    "    prompt = \"\"\"\n",
    "You are a helpful and intelligent quiz generator.\n",
    "\n",
    "Your task is to create a quiz based on the topic: **{topic}**\n",
    "Number of questions to generate: {count}\n",
    "\n",
    "Return the result as a JSON object with this format:\n",
    "{\n",
    "  \"items\": [\n",
    "    {\n",
    "      \"question\": \"...\",\n",
    "      \"answer\": \"...\",\n",
    "      \"options\": [\"...\", \"...\", \"...\", \"...\"]\n",
    "    }\n",
    "  ]\n",
    "}\n",
    "\"\"\"\n",
    "    response = model.invoke(prompt)\n",
    "    content = response.content.strip()\n",
    "    print(content)\n",
    "    # # Remove outer triple backticks and `json` label\n",
    "    # content = re.sub(r\"```json|```\", \"\", content).strip()\n",
    "    content=re.sub(r\"```json|```\",\"\",content)\n",
    "    # Remove **inner** triple backticks inside question strings\n",
    "    content = re.sub(r\"```python\\n?|```\", \"\", content)\n",
    "    items=[]\n",
    "    try:\n",
    "        data = json.loads(content)\n",
    "        items = data[\"items\"]\n",
    "        print(\"Parsed items:\", items)\n",
    "    except json.JSONDecodeError as e:\n",
    "        print(\"JSON Decode Error:\", e)\n",
    "        print(\"Cleaned content:\\n\", content)\n",
    "    \n",
    "    return items\n"
   ]
  },
  {
   "cell_type": "code",
   "execution_count": null,
   "id": "328348c0",
   "metadata": {},
   "outputs": [],
   "source": [
    "def study_plan(state:StudyAssisstant):\n",
    "    topic =state['topic']\n",
    "    prompt = f\"\"\"\n",
    "You are an expert AI assistant that generates effective and realistic study plans for students.\n",
    "\n",
    "Generate a detailed 7-day study plan for the topic: \"{topic}\".\n",
    "\n",
    "Your output **must be** in the following JSON format:\n",
    "{{\n",
    "  \"start_date\": \"YYYY-MM-DD\",\n",
    "  \"end_date\": \"YYYY-MM-DD\",\n",
    "  \"daily_plan\": {{\n",
    "    \"Day 1\": \"Introduction to the topic...\",\n",
    "    \"Day 2\": \"Deep dive into concept A...\",\n",
    "    ...\n",
    "    \"Day 7\": \"Revision and practice\"\n",
    "  }}\n",
    "}}\n",
    "\n",
    "Rules:\n",
    "- Start from today’s date as start_date.\n",
    "- The plan should span 7 days.\n",
    "- Use simple and clear language.\n",
    "- Do **not** include any explanation or text outside the JSON format.\n",
    "\n",
    "Now generate the study plan.\n",
    "\"\"\"\n",
    "\n",
    "    response=model.invoke(prompt)\n",
    "\n",
    "    content=re.sub(r\"```json|```\",\"\",response.content)\n",
    "    \n",
    "    return content\n"
   ]
  },
  {
   "cell_type": "code",
   "execution_count": 53,
   "id": "90e446dc",
   "metadata": {},
   "outputs": [
    {
     "name": "stdout",
     "output_type": "stream",
     "text": [
      "Help me plan a study schedule for dynamic programming\n",
      "\n",
      "{\n",
      "  \"start_date\": \"2024-10-27\",\n",
      "  \"end_date\": \"2024-11-02\",\n",
      "  \"daily_plan\": {\n",
      "    \"Day 1\": \"Introduction to Dynamic Programming: What is DP?  Key concepts: Optimal substructure and overlapping subproblems.  Solve simple examples like Fibonacci sequence.\",\n",
      "    \"Day 2\": \"Memoization: Top-down approach. Implement memoization in a simple problem (e.g., Fibonacci). Practice coding problems involving memoization.\",\n",
      "    \"Day 3\": \"Tabulation: Bottom-up approach.  Understand the difference between memoization and tabulation. Solve problems using tabulation (e.g., finding the nth Fibonacci number).\",\n",
      "    \"Day 4\": \"DP on sequences:  Learn about common DP problems on sequences like Longest Common Subsequence (LCS), Longest Increasing Subsequence (LIS), and Edit Distance. Solve practice problems for each.\",\n",
      "    \"Day 5\": \"DP on grids: Explore problems involving grids, such as 0/1 Knapsack, Matrix Chain Multiplication, and shortest path problems (e.g., using Dijkstra's algorithm). Solve practice problems.\",\n",
      "    \"Day 6\": \"Advanced DP techniques: Learn about bitmasking and advanced state transitions. Solve medium-level DP problems involving these techniques. Review concepts from previous days.\",\n",
      "    \"Day 7\": \"Revision and practice: Review all concepts and techniques learned. Solve more challenging problems from online judges like LeetCode, HackerRank, or Codeforces. Focus on areas where you struggled.\"\n",
      "  }\n",
      "}\n",
      "\n"
     ]
    }
   ],
   "source": [
    "study_plan({\"topic\":\"Help me plan a study schedule for dynamic programming\"})"
   ]
  },
  {
   "cell_type": "code",
   "execution_count": 50,
   "id": "48e81ab8",
   "metadata": {},
   "outputs": [],
   "source": [
    "def topic_extracter(state: StudyAssisstant):\n",
    "    query = state['query']\n",
    "    prompt = f\"\"\"\n",
    "You are an intelligent assistant designed to classify and extract structured information from user study-related queries.\n",
    "\n",
    "Given the following user query:\n",
    "query: \"{query}\"\n",
    "\n",
    "Your task is to analyze the intent and return a structured response with the following format:\n",
    "\n",
    "- decision: Literal['study_plan', 'quiz', 'another']\n",
    "\n",
    "Interpretation rules:\n",
    "1. If the query is about preparing or taking a quiz/test:\n",
    "   - decision: 'quiz'\n",
    "   - topic: Identify the main topic or subject of the quiz (e.g., \"binary trees\", \"OS scheduling\").\n",
    "   - count: Extract the number of quiz questions requested (e.g., \"give me 5 questions\"), or return a default value of 10 if not specified.\n",
    "\n",
    "2. If the query is about planning or organizing a study session:\n",
    "   - decision: 'study_plan'\n",
    "   - topic: Identify the primary subject or concept the user wants to study.\n",
    "\n",
    "3. If the query does not fall under 'quiz' or 'study_plan':\n",
    "   - decision: 'another'\n",
    "   - query: Return an enhanced and more specific version of the original query to help guide the user toward a better-defined study action.\n",
    "\n",
    "Be concise, accurate, and avoid assumptions unless logically inferred from the query.\n",
    "\"\"\"\n",
    "\n",
    "\n",
    "    response=model.invoke(prompt)\n",
    "\n",
    "    \n",
    "    content=re.sub(\"```json\",\"\",response.content)\n",
    "    content=re.sub(\"```\",\"\",content)\n",
    "    obj=json.loads(content)\n",
    "    \n",
    "\n",
    "    return obj\n"
   ]
  },
  {
   "cell_type": "code",
   "execution_count": 40,
   "id": "86b392ca",
   "metadata": {},
   "outputs": [],
   "source": [
    "def check(state:dict)->Literal[\"quiz_planner\", \"study_plan\", \"another\"]:\n",
    "\n",
    "    if state['decision']==\"quiz\":\n",
    "        return \"quiz_planner\"\n",
    "    elif state['decision']=='study_plan':\n",
    "        return \"study_plan\"\n",
    "    else:\n",
    "        return \"another\""
   ]
  },
  {
   "cell_type": "code",
   "execution_count": 41,
   "id": "f8977ad7",
   "metadata": {},
   "outputs": [],
   "source": [
    "def another(state:StudyAssisstant):\n",
    "    pass"
   ]
  },
  {
   "cell_type": "code",
   "execution_count": 59,
   "id": "9e129918",
   "metadata": {},
   "outputs": [],
   "source": [
    "def feedback(state: StudyAssisstant):\n",
    "    prompt = f\"\"\"\n",
    "You are an intelligent academic assistant providing feedback on a user's quiz performance.\n",
    "\n",
    "Topic: {state[\"topic\"]}\n",
    "Score: {state[\"score\"]} out of {state['count']}\n",
    "\n",
    "Your task:\n",
    "- Analyze the user's score and provide constructive, personalized feedback.\n",
    "- If the score is low, highlight weak areas and suggest specific subtopics to revise.\n",
    "- If the score is average, suggest reinforcement and practice strategies.\n",
    "- If the score is high, praise the performance and recommend advanced or related topics to explore.\n",
    "- Offer 2–3 practical study suggestions to improve or go deeper.\n",
    "- Keep the tone encouraging and helpful.\n",
    "\n",
    "Be concise but informative.\n",
    "\"\"\"\n",
    "    response=model.invoke(prompt)\n",
    "\n",
    "    return {'feedback':response.content}\n",
    "    \n"
   ]
  },
  {
   "cell_type": "code",
   "execution_count": null,
   "id": "e3d24f72",
   "metadata": {},
   "outputs": [
    {
     "name": "stdout",
     "output_type": "stream",
     "text": [
      "Congratulations on scoring 7 out of 10 on your Python quiz! That's a good start, showing a solid understanding of the fundamentals.  To build on this success, I suggest focusing on reinforcing your knowledge in the areas where you may have lost points.  Reviewing concepts related to those questions (perhaps focusing on specific functions or data structures involved) would be beneficial.  Consider working through more practice problems, focusing on those areas you found challenging.  Finally, exploring more advanced topics like list comprehensions or working with external libraries (like `requests` for web scraping, or `pandas` for data analysis) will deepen your Python expertise.\n"
     ]
    }
   ],
   "source": []
  },
  {
   "cell_type": "code",
   "execution_count": 60,
   "id": "0adb5fba",
   "metadata": {},
   "outputs": [],
   "source": [
    "graph = StateGraph(StudyAssisstant)\n",
    "graph.add_node(\"topic_extracter\", topic_extracter)\n",
    "graph.add_node(\"quiz_planner\", quiz_planner)\n",
    "graph.add_node(\"study_plan\", study_plan)\n",
    "graph.add_node(\"another\", another)\n",
    "graph.add_node('feedback',feedback)\n",
    "graph.add_edge(START, \"topic_extracter\")\n",
    "graph.add_conditional_edges(\"topic_extracter\", check)\n",
    "graph.add_edge(\"quiz_planner\", 'feedback')\n",
    "graph.add_edge('feedback',END)\n",
    "graph.add_edge(\"another\", END)\n",
    "graph.add_edge(\"study_plan\", END)\n",
    "\n",
    "workflow = graph.compile()\n"
   ]
  },
  {
   "cell_type": "code",
   "execution_count": null,
   "id": "057f55b7",
   "metadata": {},
   "outputs": [],
   "source": []
  },
  {
   "cell_type": "code",
   "execution_count": 61,
   "id": "6c0f2c6d",
   "metadata": {},
   "outputs": [
    {
     "data": {
      "image/png": "[encoded data removed]",
      "text/plain": [
       "<langgraph.graph.state.CompiledStateGraph object at 0x000002373443FCE0>"
      ]
     },
     "execution_count": 61,
     "metadata": {},
     "output_type": "execute_result"
    }
   ],
   "source": [
    "workflow"
   ]
  },
  {
   "cell_type": "code",
   "execution_count": 55,
   "id": "c4d86086",
   "metadata": {},
   "outputs": [
    {
     "name": "stdout",
     "output_type": "stream",
     "text": [
      "dynamic programming\n",
      "\n",
      "{\n",
      "  \"start_date\": \"2024-10-27\",\n",
      "  \"end_date\": \"2024-11-02\",\n",
      "  \"daily_plan\": {\n",
      "    \"Day 1\": \"Introduction to Dynamic Programming: What is it?  When to use it? Examples of DP problems (Fibonacci, Knapsack). Watch introductory videos and read basic explanations.\",\n",
      "    \"Day 2\": \"Memoization: Implementing memoization in code. Practice problems involving simple recursive solutions that can be optimized with memoization. Focus on understanding the time and space complexity improvements.\",\n",
      "    \"Day 3\": \"Tabulation: Understanding the tabulation approach.  Convert memoization solutions to tabulation. Practice problems focusing on tabulation implementation.  Compare and contrast memoization and tabulation.\",\n",
      "    \"Day 4\": \"Common DP Patterns: Explore common patterns like 0/1 Knapsack, Longest Common Subsequence (LCS), Longest Increasing Subsequence (LIS). Work through examples of each pattern.\",\n",
      "    \"Day 5\": \"Advanced DP Problems: Tackle more challenging problems involving these patterns.  Focus on identifying the subproblems and developing recursive relations. Practice coding solutions.\",\n",
      "    \"Day 6\": \"Advanced DP Techniques: Explore optimization techniques like bitmasking and using data structures to improve efficiency in DP solutions. Work through examples of problems that benefit from these techniques.\",\n",
      "    \"Day 7\": \"Revision and practice: Review all concepts, patterns, and techniques. Solve a variety of practice problems from online judges (LeetCode, HackerRank etc.) focusing on different difficulty levels. Identify weaknesses and revisit relevant sections.\"\n",
      "  }\n",
      "}\n",
      "\n"
     ]
    },
    {
     "data": {
      "text/plain": [
       "{'query': 'Help me plan a study schedule for dynamic programming',\n",
       " 'topic': 'dynamic programming',\n",
       " 'decision': 'study_plan'}"
      ]
     },
     "execution_count": 55,
     "metadata": {},
     "output_type": "execute_result"
    }
   ],
   "source": [
    "workflow.invoke({\"query\":\"Help me plan a study schedule for dynamic programming\"})"
   ]
  }
 ],
 "metadata": {
  "kernelspec": {
   "display_name": "quiz",
   "language": "python",
   "name": "python3"
  },
  "language_info": {
   "codemirror_mode": {
    "name": "ipython",
    "version": 3
   },
   "file_extension": ".py",
   "mimetype": "text/x-python",
   "name": "python",
   "nbconvert_exporter": "python",
   "pygments_lexer": "ipython3",
   "version": "3.13.5"
  }
 },
 "nbformat": 4,
 "nbformat_minor": 5
}
